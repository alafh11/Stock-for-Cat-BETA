{
 "cells": [
  {
   "cell_type": "code",
   "execution_count": null,
   "metadata": {},
   "outputs": [],
   "source": [
    "import pandas as pd\n",
    "import os\n",
    "import pandas_ta as ta  # Technical indicators\n",
    "from tqdm import tqdm   # Progress bars\n",
    "\n",
    "# Configuration\n",
    "RAW_DIR = \"../data/raw/yfinance\"\n",
    "PROCESSED_DIR = \"../data/processed\"\n"
   ]
  },
  {
   "cell_type": "markdown",
   "metadata": {},
   "source": [
    "Bulk Load All YFinance Files\n"
   ]
  },
  {
   "cell_type": "code",
   "execution_count": null,
   "metadata": {},
   "outputs": [],
   "source": [
    "def load_all_yfinance():\n",
    "    \"\"\"Load Yahoo Finance CSVs with multi-row headers\"\"\"\n",
    "    all_dfs = []\n",
    "    \n",
    "    for file in tqdm(os.listdir(RAW_DIR)):\n",
    "        if file.endswith('.csv'):\n",
    "            try:\n",
    "                ticker = file.split('.')[0]\n",
    "                \n",
    "                # Skip the first 3 rows of metadata\n",
    "                df = pd.read_csv(\n",
    "                    f\"{RAW_DIR}/{file}\",\n",
    "                    skiprows=3,\n",
    "                    names=['date', 'close', 'high', 'low', 'open', 'volume'],\n",
    "                    parse_dates=['date']\n",
    "                )\n",
    "                \n",
    "                df['ticker'] = ticker\n",
    "                all_dfs.append(df)\n",
    "                \n",
    "            except Exception as e:\n",
    "                print(f\"⚠️ Failed {file}: {str(e)}\")\n",
    "                continue\n",
    "                \n",
    "    return pd.concat(all_dfs, ignore_index=True)\n",
    "\n",
    "df = load_all_yfinance()\n",
    "print(f\"✅ Loaded {len(df)} rows from {df['ticker'].nunique()} stocks\")"
   ]
  },
  {
   "cell_type": "markdown",
   "metadata": {},
   "source": [
    "code verification "
   ]
  },
  {
   "cell_type": "code",
   "execution_count": null,
   "metadata": {},
   "outputs": [],
   "source": [
    "print(df[df['ticker'] == 'AAPL'].head(10))\n",
    "unique_tickers = df['ticker'].unique().tolist()\n",
    "print(f\"Tickers: {unique_tickers[:5]}...\")  "
   ]
  },
  {
   "cell_type": "markdown",
   "metadata": {},
   "source": [
    "Data Cleaning Pipeline\n",
    "Goal: Fix common data quality issues\n",
    "\n",
    "Why?\n",
    "Ensures dates are recognized as timestamps (not strings)\n",
    ", Handles market closures without leaving gaps\n",
    ", Guarantees no NaN values break your models\n",
    "\n"
   ]
  },
  {
   "cell_type": "code",
   "execution_count": null,
   "metadata": {},
   "outputs": [],
   "source": [
    "def clean_data(df):\n",
    "    # Convert text dates to proper datetime format (essential for time series)\n",
    "    df['date'] = pd.to_datetime(df['date'])  \n",
    "    \n",
    "    # Forward-fill missing values (e.g., weekends/holidays when markets are closed)\n",
    "    df = df.sort_values(['ticker', 'date'])\n",
    "    df = df.groupby('ticker').apply(lambda x: x.ffill())  # Carry last known value forward\n",
    "    \n",
    "    # Remove any remaining bad rows\n",
    "    return df.dropna()"
   ]
  },
  {
   "cell_type": "code",
   "execution_count": null,
   "metadata": {},
   "outputs": [],
   "source": [
    "# Total NaN values in entire DataFrame\n",
    "total_nans = df.isna().sum().sum()\n",
    "print(f\"Total NaN values: {total_nans}\")\n",
    "\n",
    "# NaN count per column\n",
    "nan_per_column = df.isna().sum()\n",
    "print(\"\\nNaN per column:\")\n",
    "print(nan_per_column)\n",
    "print(df.shape)\n",
    "print(df.head(10))"
   ]
  },
  {
   "cell_type": "markdown",
   "metadata": {},
   "source": [
    "Feature Engineering\n",
    "Goal: Add technical indicators traders use\n",
    "\n",
    "Why These Indicators?\n",
    "\n",
    "SMA: Smooths price noise to reveal trends\n",
    "\n",
    "RSI: Identifies potential reversals (values >70 = overbought, <30 = oversold)\n",
    "\n",
    "MACD: Shows momentum shifts\n",
    "\n",
    "Bollinger Bands: Highlights volatility extremes"
   ]
  },
  {
   "cell_type": "code",
   "execution_count": null,
   "metadata": {},
   "outputs": [],
   "source": [
    "def add_technical_indicators(df):\n",
    "    # Calculate indicators PER STOCK (groupby ensures no cross-contamination)\n",
    "    return df.groupby('ticker').apply(lambda x: x.assign(\n",
    "        sma_20=ta.sma(x['close'], 20),       # 20-day moving average (trend direction)\n",
    "        rsi_14=ta.rsi(x['close'], 14),       # Relative Strength Index (overbought/oversold)\n",
    "        macd=ta.macd(x['close'])['MACD_12_26_9'],  # MACD (momentum)\n",
    "        boll_high=ta.bbands(x['close'])['BBU_5_2.0'],  # Bollinger Upper Band (volatility)\n",
    "        boll_low=ta.bbands(x['close'])['BBL_5_2.0']    # Bollinger Lower Band\n",
    "    ))"
   ]
  },
  {
   "cell_type": "code",
   "execution_count": null,
   "metadata": {},
   "outputs": [],
   "source": [
    "df_features = add_technical_indicators(df)\n",
    "# Check new columns\n",
    "print(\"New columns:\", df_features.columns.tolist())\n",
    "# See sample data for AAPL\n",
    "print(\"\\nAAPL data with indicators:\")\n",
    "print(df_features[df_features['ticker'] == 'AAPL'].tail(3))"
   ]
  },
  {
   "cell_type": "code",
   "execution_count": null,
   "metadata": {},
   "outputs": [],
   "source": [
    "# Forward-fill missing values (carry last known value forward)\n",
    "df_features = df_features.ffill()\n",
    "\n",
    "# OR drop early rows with NaN\n",
    "df_features = df_features.dropna()\n",
    "\n",
    "print(\"Remaining NaNs:\", df_features.isna().sum().sum())  # Should be 0\n",
    "print(df_features.head())"
   ]
  },
  {
   "cell_type": "code",
   "execution_count": null,
   "metadata": {},
   "outputs": [],
   "source": [
    "# Check if any ticker has date gaps\n",
    "date_gaps = df.groupby('ticker')['date'].apply(lambda x: x.sort_values().diff().max())\n",
    "print(\"Max gap between dates per ticker (should be <=3 days for weekends):\")\n",
    "print(date_gaps.dt.days.value_counts())"
   ]
  }
 ],
 "metadata": {
  "kernelspec": {
   "display_name": "Python 3",
   "language": "python",
   "name": "python3"
  },
  "language_info": {
   "codemirror_mode": {
    "name": "ipython",
    "version": 3
   },
   "file_extension": ".py",
   "mimetype": "text/x-python",
   "name": "python",
   "nbconvert_exporter": "python",
   "pygments_lexer": "ipython3",
   "version": "3.12.3"
  }
 },
 "nbformat": 4,
 "nbformat_minor": 2
}
