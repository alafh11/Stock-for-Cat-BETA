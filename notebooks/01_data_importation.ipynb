{
 "cells": [
  {
   "cell_type": "markdown",
   "metadata": {},
   "source": [
    "# Loads Top 100 NASDAQ daily stock prices DATASET from Kaggle + yfinance DATASET\n"
   ]
  },
  {
   "cell_type": "code",
   "execution_count": 1,
   "metadata": {},
   "outputs": [
    {
     "name": "stderr",
     "output_type": "stream",
     "text": [
      "Downloading Stocks:   0%|          | 0/101 [00:00<?, ?it/s]"
     ]
    },
    {
     "name": "stdout",
     "output_type": "stream",
     "text": [
      "YF.download() has changed argument auto_adjust default to True\n"
     ]
    },
    {
     "name": "stderr",
     "output_type": "stream",
     "text": [
      "Downloading Stocks:  91%|█████████ | 92/101 [00:57<00:04,  1.99it/s]\n",
      "1 Failed download:\n",
      "['FISV']: YFPricesMissingError('possibly delisted; no price data found  (period=1y) (Yahoo error = \"No data found, symbol may be delisted\")')\n",
      "Downloading Stocks: 100%|██████████| 101/101 [01:19<00:00,  1.27it/s]"
     ]
    },
    {
     "name": "stdout",
     "output_type": "stream",
     "text": [
      "\n",
      "✅ Successfully downloaded 101 stocks\n",
      "❌ Failed to download 0 stocks\n",
      "\n",
      "Sample downloaded files: ['.gitkeep', 'AAPL.csv', 'ABNB.csv', 'ADBE.csv', 'ADI.csv']\n"
     ]
    },
    {
     "name": "stderr",
     "output_type": "stream",
     "text": [
      "\n"
     ]
    }
   ],
   "source": [
    "# import shutil\n",
    "# import os \n",
    "\n",
    "# # Delete the entire yfinance folder and its contents\n",
    "# shutil.rmtree(\"../data/raw/yfinance\", ignore_errors=True)\n",
    "\n",
    "# # Remove Kaggle CSV files but keep the folder\n",
    "# for file in os.listdir(\"../data/raw\"):\n",
    "#     if file.endswith(\".csv\"):\n",
    "#         os.remove(f\"../data/raw/{file}\")\n",
    "\n",
    "# print(\"Old CSV files deleted.\")\n",
    "\n",
    "import pandas as pd\n",
    "from kaggle.api.kaggle_api_extended import KaggleApi\n",
    "import os\n",
    "import yfinance as yf\n",
    "\n",
    "# api = KaggleApi()\n",
    "# api.authenticate()\n",
    "\n",
    "# dataset = \"svaningelgem/nasdaq-100-daily-stock-prices\"\n",
    "# api.dataset_download_files(dataset, path=\"../data/raw\", unzip=True)\n",
    "\n",
    "# downloaded_files = os.listdir(\"../data/raw\")\n",
    "# csv_file = [f for f in downloaded_files if f.endswith('.csv')][0]\n",
    "\n",
    "# df_kaggle_data = pd.read_csv(f\"../data/raw/{csv_file}\")\n",
    "# print(f\"Loaded Kaggle dataset with {len(df_kaggle_data)} rows\")\n",
    "# print(df_kaggle_data.head(5))\n",
    "# print(df_kaggle_data.tail(5))\n",
    "\n",
    "from tqdm import tqdm\n",
    "import time\n",
    "\n",
    "tickers = [\n",
    "    \"AAPL\", \"MSFT\", \"AMZN\", \"NVDA\", \"META\", \"GOOGL\", \"GOOG\",\n",
    "    \"TSLA\", \"AVGO\", \"COST\", \"PEP\", \"ADBE\", \"CSCO\", \"TMUS\",\n",
    "    \"CMCSA\", \"NFLX\", \"HON\", \"TXN\", \"QCOM\", \"INTC\", \"AMD\",\n",
    "    \"GILD\", \"INTU\", \"AMGN\", \"BKNG\", \"ADP\", \"VRTX\", \"REGN\",\n",
    "    \"ISRG\", \"ADI\", \"PANW\", \"MU\", \"MDLZ\", \"PYPL\", \"SBUX\",\n",
    "    \"MELI\", \"KLAC\", \"SNPS\", \"CDNS\", \"ASML\", \"CHTR\", \"LRCX\",\n",
    "    \"MAR\", \"WDAY\", \"ABNB\", \"NXPI\", \"ORLY\", \"MNST\", \"ADSK\",\n",
    "    \"KDP\", \"PDD\", \"AEP\", \"DXCM\", \"CTAS\", \"ROST\", \"BIIB\",\n",
    "    \"IDXX\", \"MCHP\", \"MRVL\", \"CSX\", \"CRWD\", \"FAST\", \"PCAR\",\n",
    "    \"ODFL\", \"KHC\", \"PAYX\", \"VRSK\", \"EXC\", \"FANG\", \"CPRT\",\n",
    "    \"XEL\", \"MRNA\", \"ANSS\", \"CEG\", \"AZN\", \"DASH\", \"TEAM\",\n",
    "    \"ZS\", \"DLTR\", \"EA\", \"FTNT\", \"GFS\", \"HES\", \"ILMN\",\n",
    "    \"LULU\", \"ON\", \"SIRI\", \"WBD\", \"WBA\", \"BKR\", \"DDOG\",\n",
    "    \"ENPH\", \"FISV\", \"GEHC\", \"JD\", \"LCID\", \"RIVN\", \"SWKS\",\n",
    "    \"TTD\", \"VRSN\", \"ZM\"\n",
    "]\n",
    "\n",
    "ticker_mappings = {\n",
    "    'BRK.B': 'BRK-B',\n",
    "    'BF.B': 'BF-B'\n",
    "}\n",
    "\n",
    "results = {\n",
    "    'success': [],\n",
    "    'fail': []\n",
    "}\n",
    "\n",
    "for ticker in tqdm(tickers, desc=\"Downloading Stocks\"):\n",
    "    try:\n",
    "        yf_ticker = ticker_mappings.get(ticker, ticker)\n",
    "        \n",
    "        df = yf.download(yf_ticker, period=\"1y\", progress=False)\n",
    "        \n",
    "        df.to_csv(f\"../data/raw/yfinance/{ticker}.csv\")\n",
    "        results['success'].append(ticker)\n",
    "        \n",
    "        time.sleep(0.2)\n",
    "        \n",
    "    except Exception as e:\n",
    "        results['fail'].append((ticker, str(e)))\n",
    "\n",
    "print(f\"\\n✅ Successfully downloaded {len(results['success'])} stocks\")\n",
    "print(f\"❌ Failed to download {len(results['fail'])} stocks\")\n",
    "\n",
    "if results['fail']:\n",
    "    print(\"\\nFailed downloads:\")\n",
    "    for ticker, error in results['fail']:\n",
    "        print(f\"- {ticker}: {error}\")\n",
    "\n",
    "print(\"\\nSample downloaded files:\", os.listdir(\"../data/raw/yfinance\")[:5])"
   ]
  },
  {
   "cell_type": "markdown",
   "metadata": {},
   "source": [
    "### `01_data_importation.ipynb`\n",
    "\n",
    "#### 📌 Purpose\n",
    "- Downloads two datasets:\n",
    "  1. **NASDAQ-100 daily stock prices** (CSV) from Kaggle\n",
    "  2. **1-year historical data** for 100 NASDAQ-listed stocks using Yahoo Finance (`yfinance`)\n",
    "\n",
    "---\n",
    "\n",
    "#### 🔑 Key Components\n",
    "1. **Kaggle Dataset Download**:\n",
    "   - Uses `KaggleApi` to fetch [svaningelgem/nasdaq-100-daily-stock-prices](https://www.kaggle.com/datasets/svaningelgem/nasdaq-100-daily-stock-prices)\n",
    "   - Saves to `../data/raw/` and loads into a pandas DataFrame.\n",
    "\n",
    "2. **Yahoo Finance Downloader**:\n",
    "   - Fetches 1-year data for 100 hardcoded tickers (e.g., AAPL, MSFT).\n",
    "   - Handles ticker name mappings (e.g., `BRK.B` → `BRK-B`).\n",
    "   - Saves each as a separate CSV in `../data/raw/yfinance/`.\n",
    "\n",
    "3. **Error Handling**:\n",
    "   - Tracks successes/failures with a `results` dictionary.\n",
    "   - Implements a 0.2s delay between requests to avoid rate limits.\n",
    "\n",
    "---\n",
    "\n",
    "#### ⚙️ Technical Details\n",
    "- **Inputs**: \n",
    "  - Kaggle dataset name (hardcoded).\n",
    "  - List of 100 NASDAQ tickers (hardcoded).\n",
    "- **Outputs**: \n",
    "  - Kaggle CSV → Loaded into `df_kaggle_data`.\n",
    "  - Individual CSV files per ticker in `yfinance/` folder.\n",
    "- **Dependencies**:\n",
    "  ```python\n",
    "  pandas, kaggle_api, yfinance, tqdm, os, time"
   ]
  }
 ],
 "metadata": {
  "kernelspec": {
   "display_name": "Python 3",
   "language": "python",
   "name": "python3"
  },
  "language_info": {
   "codemirror_mode": {
    "name": "ipython",
    "version": 3
   },
   "file_extension": ".py",
   "mimetype": "text/x-python",
   "name": "python",
   "nbconvert_exporter": "python",
   "pygments_lexer": "ipython3",
   "version": "3.12.3"
  }
 },
 "nbformat": 4,
 "nbformat_minor": 2
}
