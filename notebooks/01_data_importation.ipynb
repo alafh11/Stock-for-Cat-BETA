{
 "cells": [
  {
   "cell_type": "markdown",
   "metadata": {},
   "source": [
    "# Loads Top 100 NASDAQ daily stock prices DATASET from Kaggle + yfinance DATASET\n"
   ]
  },
  {
   "cell_type": "code",
   "execution_count": null,
   "metadata": {},
   "outputs": [
    {
     "name": "stdout",
     "output_type": "stream",
     "text": [
      "Dataset URL: https://www.kaggle.com/datasets/svaningelgem/nasdaq-100-daily-stock-prices\n",
      "Loaded 11134 rows\n"
     ]
    },
    {
     "name": "stderr",
     "output_type": "stream",
     "text": [
      "[*********************100%***********************]  1 of 1 completed\n",
      "[*********************100%***********************]  1 of 1 completed"
     ]
    },
    {
     "name": "stdout",
     "output_type": "stream",
     "text": [
      "Saved AAPL data to ../data/raw/yfinance/AAPL.csv\n",
      "Saved MSFT data to ../data/raw/yfinance/MSFT.csv\n"
     ]
    },
    {
     "name": "stderr",
     "output_type": "stream",
     "text": [
      "\n",
      "[*********************100%***********************]  1 of 1 completed"
     ]
    },
    {
     "name": "stdout",
     "output_type": "stream",
     "text": [
      "Saved GOOGL data to ../data/raw/yfinance/GOOGL.csv\n",
      "\n",
      "Kaggle files: ['AAPL.csv', 'ABNB.csv', 'ACGL.csv']\n",
      "Yfinance files: ['AAPL.csv', 'GOOGL.csv', 'MSFT.csv']\n"
     ]
    },
    {
     "name": "stderr",
     "output_type": "stream",
     "text": [
      "\n"
     ]
    }
   ],
   "source": [
    "import pandas as pd\n",
    "from kaggle.api.kaggle_api_extended import KaggleApi\n",
    "import zipfile\n",
    "import os\n",
    "import yfinance as yf\n",
    "\n",
    "\n",
    "api = KaggleApi()\n",
    "api.authenticate()  # Uses your kaggle.json automatically\n",
    "\n",
    "\n",
    "dataset = \"svaningelgem/nasdaq-100-daily-stock-prices\"\n",
    "api.dataset_download_files(dataset, path=\"../data/raw\", unzip=True)\n",
    "\n",
    "\n",
    "downloaded_files = os.listdir(\"../data/raw\")\n",
    "csv_file = [f for f in downloaded_files if f.endswith('.csv')][0]\n",
    "\n",
    "\n",
    "df = pd.read_csv(f\"../data/raw/{csv_file}\")\n",
    "print(f\"Loaded {len(df)} rows\")\n",
    "df.head()\n",
    "\n",
    "tickers = [\"AAPL\", \"MSFT\", \"GOOGL\"] \n",
    "for ticker in tickers:\n",
    "    df = yf.download(ticker, period=\"1y\") \n",
    "    df.to_csv(f\"../data/raw/yfinance/{ticker}.csv\") \n",
    "    print(f\"Saved {ticker} data to ../data/raw/yfinance/{ticker}.csv\")\n",
    "\n",
    "print(\"\\nKaggle files:\", os.listdir(\"../data/raw\")[:3])  \n",
    "print(\"Yfinance files:\", os.listdir(\"../data/raw/yfinance\"))\n",
    "\n",
    "\n"
   ]
  },
  {
   "cell_type": "code",
   "execution_count": null,
   "metadata": {},
   "outputs": [],
   "source": []
  }
 ],
 "metadata": {
  "kernelspec": {
   "display_name": "Python 3",
   "language": "python",
   "name": "python3"
  },
  "language_info": {
   "codemirror_mode": {
    "name": "ipython",
    "version": 3
   },
   "file_extension": ".py",
   "mimetype": "text/x-python",
   "name": "python",
   "nbconvert_exporter": "python",
   "pygments_lexer": "ipython3",
   "version": "3.12.3"
  }
 },
 "nbformat": 4,
 "nbformat_minor": 2
}
