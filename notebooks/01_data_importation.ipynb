{
 "cells": [
  {
   "cell_type": "markdown",
   "metadata": {},
   "source": [
    "# Loads Top 100 NASDAQ daily stock prices DATASET from Kaggle + yfinance DATASET\n"
   ]
  },
  {
   "cell_type": "code",
   "execution_count": 3,
   "metadata": {},
   "outputs": [
    {
     "name": "stdout",
     "output_type": "stream",
     "text": [
      "Dataset URL: https://www.kaggle.com/datasets/svaningelgem/nasdaq-100-daily-stock-prices\n",
      "Loaded Kaggle dataset with 11135 rows\n",
      "  ticker        date  open  high   low  close\n",
      "0   AAPL  1980-12-12  0.13  0.13  0.13   0.13\n",
      "1   AAPL  1980-12-15  0.12  0.12  0.12   0.12\n",
      "2   AAPL  1980-12-16  0.11  0.11  0.11   0.11\n",
      "3   AAPL  1980-12-17  0.12  0.12  0.12   0.12\n",
      "4   AAPL  1980-12-18  0.12  0.12  0.12   0.12\n",
      "      ticker        date    open    high     low   close\n",
      "11130   AAPL  2025-03-24  221.00  221.48  218.58  220.73\n",
      "11131   AAPL  2025-03-25  220.77  224.10  220.08  223.75\n",
      "11132   AAPL  2025-03-26  223.51  225.02  220.47  221.53\n",
      "11133   AAPL  2025-03-27  221.39  224.99  220.60  223.85\n",
      "11134   AAPL  2025-03-28  221.67  223.81  217.68  217.90\n"
     ]
    },
    {
     "name": "stderr",
     "output_type": "stream",
     "text": [
      "Downloading Stocks:   0%|          | 0/101 [00:00<?, ?it/s]"
     ]
    },
    {
     "name": "stdout",
     "output_type": "stream",
     "text": [
      "YF.download() has changed argument auto_adjust default to True\n"
     ]
    },
    {
     "name": "stderr",
     "output_type": "stream",
     "text": [
      "Downloading Stocks:  91%|█████████ | 92/101 [00:48<00:04,  1.89it/s]\n",
      "1 Failed download:\n",
      "['FISV']: YFPricesMissingError('possibly delisted; no price data found  (period=1y) (Yahoo error = \"No data found, symbol may be delisted\")')\n",
      "Downloading Stocks: 100%|██████████| 101/101 [00:56<00:00,  1.80it/s]"
     ]
    },
    {
     "name": "stdout",
     "output_type": "stream",
     "text": [
      "\n",
      "✅ Successfully downloaded 101 stocks\n",
      "❌ Failed to download 0 stocks\n",
      "\n",
      "Sample downloaded files: ['.gitkeep', 'AAPL.csv', 'ABNB.csv', 'ADBE.csv', 'ADI.csv']\n"
     ]
    },
    {
     "name": "stderr",
     "output_type": "stream",
     "text": [
      "\n"
     ]
    }
   ],
   "source": [
    "# import shutil\n",
    "# import os \n",
    "\n",
    "# # Delete the entire yfinance folder and its contents\n",
    "# shutil.rmtree(\"../data/raw/yfinance\", ignore_errors=True)\n",
    "\n",
    "# # Remove Kaggle CSV files but keep the folder\n",
    "# for file in os.listdir(\"../data/raw\"):\n",
    "#     if file.endswith(\".csv\"):\n",
    "#         os.remove(f\"../data/raw/{file}\")\n",
    "\n",
    "# print(\"Old CSV files deleted.\")\n",
    "\n",
    "import pandas as pd\n",
    "from kaggle.api.kaggle_api_extended import KaggleApi\n",
    "import os\n",
    "import yfinance as yf\n",
    "\n",
    "# Authenticate Kaggle API\n",
    "api = KaggleApi()\n",
    "api.authenticate()\n",
    "\n",
    "# Download Kaggle dataset\n",
    "dataset = \"svaningelgem/nasdaq-100-daily-stock-prices\"\n",
    "api.dataset_download_files(dataset, path=\"../data/raw\", unzip=True)\n",
    "\n",
    "# Get the first CSV file from Kaggle dataset\n",
    "downloaded_files = os.listdir(\"../data/raw\")\n",
    "csv_file = [f for f in downloaded_files if f.endswith('.csv')][0]\n",
    "\n",
    "# Load Kaggle dataset\n",
    "df_kaggle_data = pd.read_csv(f\"../data/raw/{csv_file}\")\n",
    "print(f\"Loaded Kaggle dataset with {len(df_kaggle_data)} rows\")\n",
    "print(df_kaggle_data.head(5))\n",
    "print(df_kaggle_data.tail(5))\n",
    "\n",
    "# Download stock prices from Yahoo Finance for all NASDAQ-100 stocks\n",
    "from tqdm import tqdm\n",
    "import time\n",
    "\n",
    "# NASDAQ-100 tickers (2024) with special cases handled\n",
    "tickers = [\n",
    "    \"AAPL\", \"MSFT\", \"AMZN\", \"NVDA\", \"META\", \"GOOGL\", \"GOOG\",\n",
    "    \"TSLA\", \"AVGO\", \"COST\", \"PEP\", \"ADBE\", \"CSCO\", \"TMUS\",\n",
    "    \"CMCSA\", \"NFLX\", \"HON\", \"TXN\", \"QCOM\", \"INTC\", \"AMD\",\n",
    "    \"GILD\", \"INTU\", \"AMGN\", \"BKNG\", \"ADP\", \"VRTX\", \"REGN\",\n",
    "    \"ISRG\", \"ADI\", \"PANW\", \"MU\", \"MDLZ\", \"PYPL\", \"SBUX\",\n",
    "    \"MELI\", \"KLAC\", \"SNPS\", \"CDNS\", \"ASML\", \"CHTR\", \"LRCX\",\n",
    "    \"MAR\", \"WDAY\", \"ABNB\", \"NXPI\", \"ORLY\", \"MNST\", \"ADSK\",\n",
    "    \"KDP\", \"PDD\", \"AEP\", \"DXCM\", \"CTAS\", \"ROST\", \"BIIB\",\n",
    "    \"IDXX\", \"MCHP\", \"MRVL\", \"CSX\", \"CRWD\", \"FAST\", \"PCAR\",\n",
    "    \"ODFL\", \"KHC\", \"PAYX\", \"VRSK\", \"EXC\", \"FANG\", \"CPRT\",\n",
    "    \"XEL\", \"MRNA\", \"ANSS\", \"CEG\", \"AZN\", \"DASH\", \"TEAM\",\n",
    "    \"ZS\", \"DLTR\", \"EA\", \"FTNT\", \"GFS\", \"HES\", \"ILMN\",\n",
    "    \"LULU\", \"ON\", \"SIRI\", \"WBD\", \"WBA\", \"BKR\", \"DDOG\",\n",
    "    \"ENPH\", \"FISV\", \"GEHC\", \"JD\", \"LCID\", \"RIVN\", \"SWKS\",\n",
    "    \"TTD\", \"VRSN\", \"ZM\"\n",
    "]\n",
    "\n",
    "# Special ticker mappings for Yahoo Finance\n",
    "ticker_mappings = {\n",
    "    'BRK.B': 'BRK-B',\n",
    "    'BF.B': 'BF-B'\n",
    "}\n",
    "\n",
    "# Track results\n",
    "results = {\n",
    "    'success': [],\n",
    "    'fail': []\n",
    "}\n",
    "\n",
    "# Download with progress bar\n",
    "for ticker in tqdm(tickers, desc=\"Downloading Stocks\"):\n",
    "    try:\n",
    "        # Get correct ticker symbol for Yahoo Finance\n",
    "        yf_ticker = ticker_mappings.get(ticker, ticker)\n",
    "        \n",
    "        # Download data (1 year history)\n",
    "        df = yf.download(yf_ticker, period=\"1y\", progress=False)\n",
    "        \n",
    "        # Save to CSV in your existing yfinance folder\n",
    "        df.to_csv(f\"../data/raw/yfinance/{ticker}.csv\")\n",
    "        results['success'].append(ticker)\n",
    "        \n",
    "        # Brief pause to avoid rate limits\n",
    "        time.sleep(0.2)\n",
    "        \n",
    "    except Exception as e:\n",
    "        results['fail'].append((ticker, str(e)))\n",
    "\n",
    "# Print summary\n",
    "print(f\"\\n✅ Successfully downloaded {len(results['success'])} stocks\")\n",
    "print(f\"❌ Failed to download {len(results['fail'])} stocks\")\n",
    "\n",
    "if results['fail']:\n",
    "    print(\"\\nFailed downloads:\")\n",
    "    for ticker, error in results['fail']:\n",
    "        print(f\"- {ticker}: {error}\")\n",
    "\n",
    "# Quick verification\n",
    "print(\"\\nSample downloaded files:\", os.listdir(\"../data/raw/yfinance\")[:5])"
   ]
  },
  {
   "cell_type": "code",
   "execution_count": null,
   "metadata": {},
   "outputs": [],
   "source": []
  }
 ],
 "metadata": {
  "kernelspec": {
   "display_name": "Python 3",
   "language": "python",
   "name": "python3"
  },
  "language_info": {
   "codemirror_mode": {
    "name": "ipython",
    "version": 3
   },
   "file_extension": ".py",
   "mimetype": "text/x-python",
   "name": "python",
   "nbconvert_exporter": "python",
   "pygments_lexer": "ipython3",
   "version": "3.12.3"
  }
 },
 "nbformat": 4,
 "nbformat_minor": 2
}
