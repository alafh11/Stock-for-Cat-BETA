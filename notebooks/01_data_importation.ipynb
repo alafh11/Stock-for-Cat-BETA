{
 "cells": [
  {
   "cell_type": "markdown",
   "metadata": {},
   "source": [
    "# Loads Top 100 NASDAQ daily stock prices DATASET from Kaggle + yfinance DATASET\n"
   ]
  },
  {
   "cell_type": "code",
   "execution_count": null,
   "metadata": {},
   "outputs": [
    {
     "name": "stdout",
     "output_type": "stream",
     "text": [
      "Old CSV files deleted.\n"
     ]
    }
   ],
   "source": [
    "# import shutil\n",
    "# import os \n",
    "\n",
    "# # Delete the entire yfinance folder and its contents\n",
    "# shutil.rmtree(\"../data/raw/yfinance\", ignore_errors=True)\n",
    "\n",
    "# # Remove Kaggle CSV files but keep the folder\n",
    "# for file in os.listdir(\"../data/raw\"):\n",
    "#     if file.endswith(\".csv\"):\n",
    "#         os.remove(f\"../data/raw/{file}\")\n",
    "\n",
    "# print(\"Old CSV files deleted.\")\n",
    "\n",
    "import pandas as pd\n",
    "from kaggle.api.kaggle_api_extended import KaggleApi\n",
    "import os\n",
    "import yfinance as yf\n",
    "\n",
    "# Authenticate Kaggle API\n",
    "api = KaggleApi()\n",
    "api.authenticate()\n",
    "\n",
    "# Download Kaggle dataset\n",
    "dataset = \"svaningelgem/nasdaq-100-daily-stock-prices\"\n",
    "api.dataset_download_files(dataset, path=\"../data/raw\", unzip=True)\n",
    "\n",
    "# Get the first CSV file from Kaggle dataset\n",
    "downloaded_files = os.listdir(\"../data/raw\")\n",
    "csv_file = [f for f in downloaded_files if f.endswith('.csv')][0]\n",
    "\n",
    "# Load Kaggle dataset\n",
    "df_kaggle_data = pd.read_csv(f\"../data/raw/{csv_file}\")\n",
    "print(f\"Loaded Kaggle dataset with {len(df_kaggle_data)} rows\")\n",
    "print(df_kaggle_data.head(5))\n",
    "print(df_kaggle_data.tail(5))\n",
    "\n",
    "# Download stock prices from Yahoo Finance\n",
    "tickers = [\"AAPL\", \"MSFT\", \"GOOGL\"]\n",
    "for ticker in tickers:\n",
    "    df_yfinance = yf.download(ticker, period=\"1y\")  # Store yfinance data in a separate variable\n",
    "    df_yfinance.to_csv(f\"../data/raw/yfinance/{ticker}.csv\") \n",
    "    print(f\"Saved {ticker} data to ../data/raw/yfinance/{ticker}.csv\")\n",
    "\n",
    "# Print a summary\n",
    "print(\"\\nKaggle files:\", os.listdir(\"../data/raw\")[:3])  \n",
    "print(\"Yfinance files:\", os.listdir(\"../data/raw/yfinance\"))\n"
   ]
  },
  {
   "cell_type": "code",
   "execution_count": null,
   "metadata": {},
   "outputs": [],
   "source": []
  }
 ],
 "metadata": {
  "kernelspec": {
   "display_name": "Python 3",
   "language": "python",
   "name": "python3"
  },
  "language_info": {
   "codemirror_mode": {
    "name": "ipython",
    "version": 3
   },
   "file_extension": ".py",
   "mimetype": "text/x-python",
   "name": "python",
   "nbconvert_exporter": "python",
   "pygments_lexer": "ipython3",
   "version": "3.12.3"
  }
 },
 "nbformat": 4,
 "nbformat_minor": 2
}
