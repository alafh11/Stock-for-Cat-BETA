{
 "cells": [
  {
   "cell_type": "markdown",
   "metadata": {},
   "source": [
    " Import Required Libraries"
   ]
  },
  {
   "cell_type": "code",
   "execution_count": null,
   "metadata": {},
   "outputs": [],
   "source": [
    "import numpy as np\n",
    "import matplotlib.pyplot as plt\n",
    "import pmdarima as pm\n",
    "from pmdarima.arima.utils import ndiffs\n",
    "from statsmodels.tsa.stattools import adfuller\n",
    "from statsmodels.graphics.tsaplots import plot_acf, plot_pacf\n",
    "import joblib\n",
    "import os\n",
    "from sklearn.metrics import mean_absolute_error, mean_squared_error"
   ]
  },
  {
   "cell_type": "markdown",
   "metadata": {},
   "source": [
    "Load & Inspect Data"
   ]
  },
  {
   "cell_type": "code",
   "execution_count": null,
   "metadata": {},
   "outputs": [],
   "source": [
    "import pandas as pd\n",
    "df = pd.read_parquet(\"../data/processed/model_ready.parquet\")\n",
    "\n",
    "ticker = \"AAPL\"\n",
    "stock_data = df[df['ticker'] == ticker][['close']].copy()\n",
    "\n",
    "print(f\"First 5 rows for {ticker}:\")\n",
    "print(stock_data.head())"
   ]
  },
  {
   "cell_type": "markdown",
   "metadata": {},
   "source": [
    "Exploratory Data Analysis (EDA)"
   ]
  },
  {
   "cell_type": "markdown",
   "metadata": {},
   "source": [
    " Plot Historical Prices"
   ]
  },
  {
   "cell_type": "code",
   "execution_count": null,
   "metadata": {},
   "outputs": [],
   "source": [
    "stock_data.plot(title=f\"{ticker} Daily Closing Price\", grid=True)\n",
    "plt.ylabel(\"Price ($)\")\n",
    "plt.show()"
   ]
  },
  {
   "cell_type": "markdown",
   "metadata": {},
   "source": [
    "Check for Stationarity"
   ]
  },
  {
   "cell_type": "code",
   "execution_count": null,
   "metadata": {},
   "outputs": [],
   "source": [
    "adf_result = adfuller(stock_data['close'])\n",
    "print(f\"ADF p-value: {adf_result[1]:.4f}\")  \n",
    "\n",
    "optimal_diff = ndiffs(stock_data['close'], test='adf')\n",
    "print(f\"Recommended differencing (d): {optimal_diff}\")\n",
    "\n",
    "stock_diff = stock_data.diff(optimal_diff).dropna()\n",
    "stock_diff.plot(title=f\"Differenced Series (d={optimal_diff})\", grid=True)\n",
    "plt.show()"
   ]
  },
  {
   "cell_type": "markdown",
   "metadata": {},
   "source": [
    "ACF & PACF Analysis"
   ]
  },
  {
   "cell_type": "code",
   "execution_count": null,
   "metadata": {},
   "outputs": [],
   "source": [
    "plot_acf(stock_diff, lags=20, title=\"ACF Plot\")\n",
    "plot_pacf(stock_diff, lags=20, title=\"PACF Plot\")\n",
    "plt.tight_layout()\n",
    "plt.show()"
   ]
  },
  {
   "cell_type": "markdown",
   "metadata": {},
   "source": [
    "ARIMA Model Training"
   ]
  },
  {
   "cell_type": "markdown",
   "metadata": {},
   "source": [
    "Auto-ARIMA for Parameter Selection"
   ]
  },
  {
   "cell_type": "code",
   "execution_count": null,
   "metadata": {},
   "outputs": [],
   "source": [
    "from pmdarima.arima.utils import ndiffs\n",
    "\n",
    "optimal_diff = ndiffs(stock_data['close'], test='adf')\n",
    "print(f\"Optimal differencing (d): {optimal_diff}\")\n",
    "\n",
    "model = pm.auto_arima(\n",
    "    stock_data['close'],\n",
    "    seasonal=False,\n",
    "    d=optimal_diff,          \n",
    "    start_p=1,               \n",
    "    start_q=1,               \n",
    "    max_p=3,                \n",
    "    max_q=3,                 \n",
    "    trace=True,              \n",
    "    suppress_warnings=True,\n",
    "    error_action=\"ignore\",   \n",
    "    stepwise=True           \n",
    ")\n",
    "\n",
    "print(\"\\n=== Model Summary ===\")\n",
    "print(model.summary())"
   ]
  },
  {
   "cell_type": "markdown",
   "metadata": {},
   "source": [
    "Train-Test Split & Validation"
   ]
  },
  {
   "cell_type": "code",
   "execution_count": null,
   "metadata": {},
   "outputs": [],
   "source": [
    "train_size = int(0.8 * len(stock_data))\n",
    "train, test = stock_data.iloc[:train_size], stock_data.iloc[train_size:]\n",
    "\n",
    "model.fit(train['close'])\n",
    "\n",
    "forecast, conf_int = model.predict(\n",
    "    n_periods=len(test),\n",
    "    return_conf_int=True\n",
    ")\n",
    "\n",
    "plt.plot(train.index, train['close'], label=\"Training Data\")\n",
    "plt.plot(test.index, test['close'], label=\"Actual Prices\")\n",
    "plt.plot(test.index, forecast, label=\"ARIMA Forecast\", linestyle=\"--\")\n",
    "plt.fill_between(\n",
    "    test.index,\n",
    "    conf_int[:, 0],\n",
    "    conf_int[:, 1],\n",
    "    color='gray',\n",
    "    alpha=0.2,\n",
    "    label=\"95% Confidence\"\n",
    ")\n",
    "plt.title(f\"{ticker}: ARIMA Forecast vs Actual\")\n",
    "plt.legend()\n",
    "plt.grid(True)\n",
    "plt.show()\n",
    "\n",
    "if model.arparams().size == 0 and model.maparams().size == 0:\n",
    "    print(\"\\n⚠️ WARNING: Model has NO AR/MA terms! Try LSTM instead.\")\n",
    "else:\n",
    "    print(\"\\n✅ Model has AR/MA terms. Proceed to forecasting.\")\n",
    "\n",
    "model.plot_diagnostics(figsize=(12, 8))\n",
    "plt.suptitle(\"Model Diagnostics\", y=1.02)\n",
    "plt.tight_layout()\n",
    "plt.show()"
   ]
  },
  {
   "cell_type": "markdown",
   "metadata": {},
   "source": [
    "Model Evaluation"
   ]
  },
  {
   "cell_type": "code",
   "execution_count": null,
   "metadata": {},
   "outputs": [],
   "source": [
    "mae = mean_absolute_error(test['close'], forecast)\n",
    "rmse = np.sqrt(mean_squared_error(test['close'], forecast))\n",
    "\n",
    "print(\"Performance Metrics:\")\n",
    "print(f\"- MAE: ${mae:.2f}\")\n",
    "print(f\"- RMSE: ${rmse:.2f}\")\n",
    "print(f\"- MAPE: {100 * mae / test['close'].mean():.2f}%\")"
   ]
  },
  {
   "cell_type": "markdown",
   "metadata": {},
   "source": [
    " Model Diagnostics"
   ]
  },
  {
   "cell_type": "markdown",
   "metadata": {},
   "source": [
    "Residual Analysis"
   ]
  },
  {
   "cell_type": "code",
   "execution_count": null,
   "metadata": {},
   "outputs": [],
   "source": [
    "residuals = model.resid()\n",
    "\n",
    "model.plot_diagnostics(figsize=(12, 8))\n",
    "plt.tight_layout()\n",
    "plt.show()\n",
    "\n",
    "from statsmodels.stats.diagnostic import acorr_ljungbox\n",
    "lb_test = acorr_ljungbox(residuals, lags=[10])\n",
    "print(\"Ljung-Box Test (H₀: residuals are random):\")\n",
    "print(f\"P-value: {lb_test['lb_pvalue'].values[0]:.4f}\") "
   ]
  },
  {
   "cell_type": "markdown",
   "metadata": {},
   "source": [
    "Normality Check"
   ]
  },
  {
   "cell_type": "code",
   "execution_count": null,
   "metadata": {},
   "outputs": [],
   "source": [
    "from scipy.stats import normaltest\n",
    "norm_test = normaltest(residuals)\n",
    "print(\"\\nNormality Test (H₀: residuals are normal):\")\n",
    "print(f\"P-value: {norm_test.pvalue:.4f}\")  "
   ]
  },
  {
   "cell_type": "markdown",
   "metadata": {},
   "source": [
    "Save Model for Production"
   ]
  },
  {
   "cell_type": "code",
   "execution_count": null,
   "metadata": {},
   "outputs": [],
   "source": [
    "os.makedirs(\"../src/models\", exist_ok=True)\n",
    "model_path = f\"../src/models/arima_{ticker.lower()}.pkl\"\n",
    "joblib.dump(model, model_path)\n",
    "print(f\"\\nModel saved to {model_path}\")"
   ]
  },
  {
   "cell_type": "markdown",
   "metadata": {},
   "source": [
    "Generate Final Forecast"
   ]
  },
  {
   "cell_type": "code",
   "execution_count": null,
   "metadata": {},
   "outputs": [],
   "source": [
    "forecast, conf_int = model.predict(\n",
    "    n_periods=7,\n",
    "    return_conf_int=True,\n",
    "    alpha=0.05  \n",
    ")\n",
    "\n",
    "print(\"\\n=== 7-Day Forecast ===\")\n",
    "forecast_df = pd.DataFrame({\n",
    "    \"Date\": pd.date_range(start=stock_data.index[-1] + pd.Timedelta(days=1), periods=7),\n",
    "    \"Forecast\": forecast,\n",
    "    \"Lower CI\": conf_int[:, 0],\n",
    "    \"Upper CI\": conf_int[:, 1]\n",
    "})\n",
    "print(forecast_df.round(2))\n",
    "\n",
    "plt.figure(figsize=(12, 5))\n",
    "plt.plot(stock_data.index[-30:], stock_data['close'][-30:], label=\"Historical\")\n",
    "plt.plot(forecast_df[\"Date\"], forecast_df[\"Forecast\"], label=\"Forecast\", marker=\"o\")\n",
    "plt.fill_between(forecast_df[\"Date\"], forecast_df[\"Lower CI\"], forecast_df[\"Upper CI\"], alpha=0.2)\n",
    "plt.title(f\"{ticker} Price Forecast\")\n",
    "plt.legend()\n",
    "plt.grid(True)\n",
    "plt.show()"
   ]
  },
  {
   "cell_type": "markdown",
   "metadata": {},
   "source": [
    "ARIMA Modeling Outcome Report\n",
    "🔴 ARIMA Model Failed\n",
    "The ARIMA model did not produce meaningful forecasts for this stock price data.\n",
    "\n",
    "❌ Why ARIMA Failed\n",
    "No Significant Autocorrelation\n",
    "\n",
    "The model (ARIMA(0,1,0)) found no AR (AutoRegressive) or MA (Moving Average) patterns to leverage.\n",
    "\n",
    "This means:\n",
    "\n",
    "Past prices do not linearly predict future prices.\n",
    "\n",
    "The stock behaves like a random walk (today’s price ≈ yesterday’s price + noise).\n",
    "\n",
    "Flat Forecasts\n",
    "\n",
    "Predictions were identical for all future days because:\n",
    "\n",
    "ARIMA defaulted to a naive model (Tomorrow = Today + Random Noise).\n",
    "\n",
    "No trend or seasonality was detected.\n",
    "\n",
    "Data Characteristics\n",
    "\n",
    "Stock prices may be:\n",
    "\n",
    "Too volatile for linear models.\n",
    "\n",
    "Influenced by external factors (news, events) that ARIMA can’t capture."
   ]
  }
 ],
 "metadata": {
  "kernelspec": {
   "display_name": "Python 3",
   "language": "python",
   "name": "python3"
  },
  "language_info": {
   "codemirror_mode": {
    "name": "ipython",
    "version": 3
   },
   "file_extension": ".py",
   "mimetype": "text/x-python",
   "name": "python",
   "nbconvert_exporter": "python",
   "pygments_lexer": "ipython3",
   "version": "3.12.3"
  }
 },
 "nbformat": 4,
 "nbformat_minor": 2
}
