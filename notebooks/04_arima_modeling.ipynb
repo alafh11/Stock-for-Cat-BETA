{
 "cells": [
  {
   "cell_type": "markdown",
   "metadata": {},
   "source": [
    "Setup "
   ]
  },
  {
   "cell_type": "code",
   "execution_count": null,
   "metadata": {},
   "outputs": [],
   "source": [
    "import pandas as pd\n",
    "import matplotlib.pyplot as plt\n",
    "from statsmodels.tsa.arima.model import ARIMA\n",
    "from statsmodels.tsa.stattools import adfuller\n",
    "import joblib\n",
    "import os \n",
    "import sklearn\n",
    "\n",
    "\n",
    "\n",
    "df = pd.read_parquet(\"../data/processed/model_ready.parquet\")\n",
    "aapl = df[df['ticker'] == 'AAPL'][['close']]  \n",
    "\n",
    "# Plot to verify\n",
    "aapl.plot(title='AAPL Closing Price', figsize=(12, 5))\n",
    "plt.show()"
   ]
  },
  {
   "cell_type": "markdown",
   "metadata": {},
   "source": [
    "Check Stationarity"
   ]
  },
  {
   "cell_type": "code",
   "execution_count": null,
   "metadata": {},
   "outputs": [],
   "source": [
    "# Augmented Dickey-Fuller test\n",
    "result = adfuller(aapl['close'])\n",
    "print('ADF p-value:', result[1])  # If >0.05, difference the data\n",
    "\n",
    "aapl.plot(title='AAPL Stock Price', figsize=(12, 5))\n",
    "plt.show()"
   ]
  },
  {
   "cell_type": "markdown",
   "metadata": {},
   "source": [
    "If p-value > 0.05: Data is non-stationary → difference it:"
   ]
  },
  {
   "cell_type": "code",
   "execution_count": null,
   "metadata": {},
   "outputs": [],
   "source": [
    "aapl_diff = aapl.diff().dropna()  # 1st-order differencing\n",
    "aapl_diff.plot(title='Differenced AAPL Price')"
   ]
  },
  {
   "cell_type": "markdown",
   "metadata": {},
   "source": [
    "Train ARIMA Model\n",
    "\n",
    "Starting with simple parameters (order=(5,1,0)):"
   ]
  },
  {
   "cell_type": "code",
   "execution_count": null,
   "metadata": {},
   "outputs": [],
   "source": [
    "# Train a simpler ARIMA(1,1,0) - fixes insignificant terms\n",
    "simple_model = ARIMA(aapl['close'], order=(1,1,0)).fit()\n",
    "print(simple_model.summary())\n",
    "\n",
    "# Save the better model\n",
    "joblib.dump(simple_model, \"../src/models/arima_aapl.pkl\") \n",
    "print(\"Simplified ARIMA(1,1,0) model saved!\")"
   ]
  },
  {
   "cell_type": "markdown",
   "metadata": {},
   "source": [
    " Validate Predictions"
   ]
  },
  {
   "cell_type": "code",
   "execution_count": null,
   "metadata": {},
   "outputs": [],
   "source": [
    "# Split data (80% train, 20% test)\n",
    "train = aapl.iloc[:int(0.8*len(aapl))]\n",
    "test = aapl.iloc[int(0.8*len(aapl)):]\n",
    "\n",
    "# Train SIMPLER model (ARIMA(1,1,0))\n",
    "model = ARIMA(train['close'], order=(1,1,0)).fit()  # Changed from (5,1,0) to (1,1,0)\n",
    "forecast = model.forecast(steps=len(test))\n",
    "\n",
    "# Plot predictions vs actual\n",
    "plt.figure(figsize=(12, 5))\n",
    "plt.plot(train.index, train['close'], label='Train', linewidth=1)\n",
    "plt.plot(test.index, test['close'], label='Actual', linewidth=1)\n",
    "plt.plot(test.index, forecast, label='ARIMA(1,1,0) Predicted', color='red', linestyle='--')\n",
    "plt.legend()\n",
    "plt.title('AAPL Price: Actual vs Simplified ARIMA Predictions')\n",
    "plt.grid(True)\n",
    "plt.show()\n",
    "\n",
    "import numpy as np\n",
    "from sklearn.metrics import mean_absolute_error, mean_squared_error\n",
    "\n",
    "# Ensure forecast is a NumPy array\n",
    "forecast = np.array(forecast)\n",
    "\n",
    "# Compute errors\n",
    "mae = mean_absolute_error(test['close'], forecast)\n",
    "rmse = mean_squared_error(test['close'], forecast) ** 0.5  # Alternative method\n",
    "\n",
    "print(f\"\\nModel Performance:\")\n",
    "print(f\"- MAE (Average Error): ${mae:.2f}\")\n",
    "print(f\"- RMSE (Big Errors Penalized): ${rmse:.2f}\")\n",
    "\n",
    "\n",
    "# Save the better model\n",
    "import joblib\n",
    "joblib.dump(model, \"../src/models/arima_aapl.pkl\")\n",
    "print(\"Simplified ARIMA(1,1,0) model saved!\")"
   ]
  },
  {
   "cell_type": "code",
   "execution_count": null,
   "metadata": {},
   "outputs": [],
   "source": [
    "os.makedirs(\"../src/models\", exist_ok=True)\n",
    "joblib.dump(simple_model, \"../src/models/arima_aapl.pkl\")\n",
    "print(\"Model saved to ../src/models/arima_aapl.pkl\")"
   ]
  }
 ],
 "metadata": {
  "kernelspec": {
   "display_name": "Python 3",
   "language": "python",
   "name": "python3"
  },
  "language_info": {
   "codemirror_mode": {
    "name": "ipython",
    "version": 3
   },
   "file_extension": ".py",
   "mimetype": "text/x-python",
   "name": "python",
   "nbconvert_exporter": "python",
   "pygments_lexer": "ipython3",
   "version": "3.12.3"
  }
 },
 "nbformat": 4,
 "nbformat_minor": 2
}
